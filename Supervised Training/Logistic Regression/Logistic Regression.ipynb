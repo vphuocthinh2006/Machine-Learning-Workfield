{
 "cells": [
  {
   "cell_type": "code",
   "execution_count": 6,
   "id": "8754302c",
   "metadata": {},
   "outputs": [],
   "source": [
    "import numpy as np\n",
    "import matplotlib.pyplot as plt\n",
    "import math\n"
   ]
  },
  {
   "cell_type": "code",
   "execution_count": 5,
   "id": "f5baa559",
   "metadata": {},
   "outputs": [],
   "source": [
    "X_train = np.array([[0.5, 1.5], [1,1], [1.5, 0.5], [3, 0.5], [2, 2], [1, 2.5]])\n",
    "y_train = np.array([0, 0, 0, 1, 1, 1])\n",
    "# print(X_train.shape)"
   ]
  },
  {
   "cell_type": "code",
   "execution_count": null,
   "id": "3e39bce4",
   "metadata": {},
   "outputs": [],
   "source": [
    "\n",
    "def sigmoid(z):\n",
    "    return 1 / (1 + np.exp(-z))\n",
    "\n",
    "def compute_cost(X, y, w, b):\n",
    "    # total_cost = 0\n",
    "    m = len(X.shape[0])\n",
    "    n = len(X.shape[1])\n",
    "    cost = 0\n",
    "    for i in range(m):\n",
    "        cost += y[i] * np.log(sigmoid(np.dot(X[i], w) + b)) + (1-y[i]) * np.log(1-sigmoid((np.dot(X[i],w ) + b))) \n",
    "    cost/=-m\n",
    "    return cost\n",
    "\n",
    "def compute_gradient(X, y, w, b):\n",
    "    m = len(X.shape[0])\n",
    "    n = len(X.shape[1])\n",
    "    dj_dw = np.zeros((n,))\n",
    "    dj_db = 0\n",
    "    for i in range(m):\n",
    "        f_wb_i = sigmoid(np.dot(X[i], w) + b)\n",
    "        err_i = f_wb_i - y[i]\n",
    "        for j in range(n):\n",
    "            dj_dw[j] = dj_dw[j] + err_i * X[i, j]\n",
    "        dj_db += err_i\n",
    "    dj_dw /= m\n",
    "    dj_db /= m\n",
    "    return dj_dw, dj_db\n",
    "\n"
   ]
  },
  {
   "cell_type": "code",
   "execution_count": 9,
   "id": "04216cac",
   "metadata": {},
   "outputs": [],
   "source": [
    "def gradient_descent(X, y, w_ini, b_ini, alpha, num_iters):\n",
    "    w = w_ini\n",
    "    b = b_ini\n",
    "    m, n = len(X)\n",
    "    for i in range(m):\n",
    "        dj_dw, dj_db = compute_gradient(X, y, w, b)\n",
    "        w = w - alpha * dj_dw\n",
    "        b = b - alpha * dj_db\n",
    "    return w, b\n"
   ]
  },
  {
   "cell_type": "code",
   "execution_count": null,
   "id": "c6366cf6",
   "metadata": {},
   "outputs": [],
   "source": [
    "w_tmp = np.zeros_like(X_train[0])\n",
    "b_tmp = 0\n",
    "alpha = 0.1\n",
    "iters = 1000\n",
    "w_out, b_out = gradient_descent(X_train, y_train, w_tmp, b_tmp, alpha, iters)\n",
    "\n",
    "    "
   ]
  }
 ],
 "metadata": {
  "kernelspec": {
   "display_name": "Python 3",
   "language": "python",
   "name": "python3"
  },
  "language_info": {
   "codemirror_mode": {
    "name": "ipython",
    "version": 3
   },
   "file_extension": ".py",
   "mimetype": "text/x-python",
   "name": "python",
   "nbconvert_exporter": "python",
   "pygments_lexer": "ipython3",
   "version": "3.13.7"
  }
 },
 "nbformat": 4,
 "nbformat_minor": 5
}
