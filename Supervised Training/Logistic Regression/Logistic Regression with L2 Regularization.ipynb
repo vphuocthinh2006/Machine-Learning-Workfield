{
 "cells": [
  {
   "cell_type": "code",
   "execution_count": 3,
   "id": "460517d0",
   "metadata": {},
   "outputs": [],
   "source": [
    "import numpy as np\n",
    "import matplotlib.pyplot as plt\n"
   ]
  },
  {
   "cell_type": "code",
   "execution_count": 8,
   "id": "d80ccc4e",
   "metadata": {},
   "outputs": [],
   "source": [
    "def compute_cost_linear_reg(X, y, w, b, lambda_ = 1):\n",
    "    m, n = X.shape\n",
    "    total_cost = 0\n",
    "    for i in range(m):\n",
    "        f_wb_i = np.dot(w, X[i]) + b\n",
    "        total_cost += (f_wb_i - y[i])**2\n",
    "    total_cost /= 2*m\n",
    "    reg_cost = 0\n",
    "    for j in range(n):\n",
    "        reg_cost += w[j] ** 2\n",
    "    reg_cost = lambda_/(2*m) * (reg_cost)\n",
    "    res = reg_cost + total_cost\n",
    "    return res\n",
    "\n",
    "#As we all have learned that the cost of the linear function solely based on the mean squared error, so what does reg does really do here? What is it importance?\n",
    "# First off, regularization is borned to minimizing the w at balance scale so that it can add up a penalty term for the cost function.\n",
    "# So let's say that we already had MSE stood but we had large x in polominial scale. Therefore, we need to have to do something in order to add up on another penalty term that is equally to reduce overfitting cases.\n",
    "# By adding up another penalty term, our cost function will be increased. Still, it would be slightly. And, unimportant. Because, gradient will help us with it.\n",
    "\n"
   ]
  },
  {
   "cell_type": "code",
   "execution_count": 7,
   "id": "c6f096a0",
   "metadata": {},
   "outputs": [
    {
     "name": "stdout",
     "output_type": "stream",
     "text": [
      "Regularized cost: 0.07917239320214277\n"
     ]
    }
   ],
   "source": [
    "np.random.seed(1)\n",
    "X_tmp = np.random.rand(5,6)\n",
    "y_tmp = np.array([0,1,0,1,0])\n",
    "w_tmp = np.random.rand(X_tmp.shape[1]).reshape(-1,)-0.5\n",
    "b_tmp = 0.5\n",
    "lambda_tmp = 0.7\n",
    "cost_tmp = compute_cost_linear_reg(X_tmp, y_tmp, w_tmp, b_tmp, lambda_tmp)\n",
    "\n",
    "print(\"Regularized cost:\", cost_tmp)"
   ]
  },
  {
   "cell_type": "code",
   "execution_count": 28,
   "id": "c9bee90b",
   "metadata": {},
   "outputs": [],
   "source": [
    "def sigmoid(z):\n",
    "    return 1/(1+np.exp(z))\n",
    "\n",
    "def compute_cost_logistic_reg(X, y, w, b, lambda_ = 1):\n",
    "    m, n = X.shape\n",
    "    cost = 0\n",
    "    # h = sigmoid((np.dot(X, w) + b))\n",
    "    for i in range(m):\n",
    "        z_i = np.dot(X[i], w) + b\n",
    "        f_wb_i = sigmoid(z_i)\n",
    "        cost +=  -y[i]*np.log(f_wb_i) - (1-y[i])*np.log(1-f_wb_i)\n",
    "    cost /= m\n",
    "    reg_cost = 0        \n",
    "    for j in range(n):\n",
    "        reg_cost += (w[j] ** 2)\n",
    "    reg_cost = (lambda_/(2*m)) * reg_cost\n",
    "    total_cost = reg_cost + cost\n",
    "    return total_cost "
   ]
  },
  {
   "cell_type": "code",
   "execution_count": null,
   "id": "1f768ee1",
   "metadata": {},
   "outputs": [
    {
     "name": "stdout",
     "output_type": "stream",
     "text": [
      "Regularized cost: 0.818117348296815\n"
     ]
    }
   ],
   "source": [
    "np.random.seed(1)\n",
    "X_tmp = np.random.rand(5,6)\n",
    "y_tmp = np.array([0,1,0,1,0])\n",
    "w_tmp = np.random.rand(X_tmp.shape[1]).reshape(-1,)-0.5\n",
    "b_tmp = 0.5\n",
    "lambda_tmp = 0.7\n",
    "cost_tmp = compute_cost_logistic_reg(X_tmp, y_tmp, w_tmp, b_tmp, lambda_tmp)\n",
    "\n",
    "print(\"Regularized cost:\", cost_tmp)\n",
    "\n",
    "# As we all know, that the cost_function of logistic regression only penalizes for which that they predicted it is wrong. For instance\n",
    "# If my y[i] is false, and my predicted f_wb_i equals right. Therefore, it has to be penalized within the left formula and see what it is wrong\n",
    "# Regularization works the same as above."
   ]
  },
  {
   "cell_type": "code",
   "execution_count": null,
   "id": "eebeac1c",
   "metadata": {},
   "outputs": [
    {
     "name": "stdout",
     "output_type": "stream",
     "text": [
      "dj_db: 0.20376447676428128\n",
      "Regularized dj_dw:\n",
      " [0.29653214748822276, 0.4911679625918033, 0.21645877535865857]\n"
     ]
    }
   ],
   "source": [
    "def compute_gradient(X, y, w, b, lambda_ = 1):\n",
    "    m, n = X.shape\n",
    "    dj_dw = np.zeros(n)\n",
    "    dj_db = 0\n",
    "    for i in range (m):\n",
    "        err = sigmoid((np.dot(X[i], w) + b)) - y[i]\n",
    "        for j in range(n):\n",
    "            dj_dw[j] += err * X[i, j]\n",
    "        dj_db += err\n",
    "    dj_dw /= m\n",
    "    dj_db /= m\n",
    "    for j in range(n):\n",
    "        dj_dw[j] = dj_dw[j] + (lambda_/m) * w[j]\n",
    "    return dj_db, dj_dw\n",
    "\n",
    "#dj_dw, dj_db acts as a slope for all training examples. Directing them towards the minimum local point.\n",
    "#Due to regularization inside the cost function, therefore, it is necessary to add up in compute gradient. \n",
    "#But, once we step in gradient descent, w[j] gets updated everytime correct? Therefore, w[j] is absoultely neccessary to be reduced, and regularization will help with it. It gets pull back towards 0.\n",
    "\n"
   ]
  },
  {
   "cell_type": "code",
   "execution_count": 40,
   "id": "fec4ce3b",
   "metadata": {},
   "outputs": [],
   "source": [
    "def gradient_descent(X, y, w_ini, b_ini, lambda_, alpha, num_iter):\n",
    "    w = w_ini\n",
    "    b = b_ini\n",
    "    m, n = X.shape\n",
    "    for i in range(num_iter):\n",
    "        dj_dw, dj_db = compute_gradient(X, y, w, b)\n",
    "        w = w - alpha * dj_dw\n",
    "        b = b- alpha * dj_db\n",
    "    return w, b\n"
   ]
  },
  {
   "cell_type": "code",
   "execution_count": null,
   "id": "faf7d619",
   "metadata": {},
   "outputs": [],
   "source": []
  }
 ],
 "metadata": {
  "kernelspec": {
   "display_name": "Python 3",
   "language": "python",
   "name": "python3"
  },
  "language_info": {
   "codemirror_mode": {
    "name": "ipython",
    "version": 3
   },
   "file_extension": ".py",
   "mimetype": "text/x-python",
   "name": "python",
   "nbconvert_exporter": "python",
   "pygments_lexer": "ipython3",
   "version": "3.13.7"
  }
 },
 "nbformat": 4,
 "nbformat_minor": 5
}
