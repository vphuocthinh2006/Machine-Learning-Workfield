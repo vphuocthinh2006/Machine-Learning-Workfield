{
 "cells": [
  {
   "cell_type": "code",
   "execution_count": 4,
   "id": "c7379f25",
   "metadata": {},
   "outputs": [],
   "source": [
    "import kagglehub\n",
    "import numpy as np\n",
    "import pandas as pd\n",
    "from sklearn.model_selection import train_test_split\n",
    "from sklearn.preprocessing import StandardScaler\n",
    "from sklearn.linear_model import LinearRegression\n",
    "from sklearn.metrics import mean_squared_error, r2_score\n",
    "from sklearn.linear_model import Lasso, Ridge\n",
    "import matplotlib.pyplot as plt\n",
    "import os\n"
   ]
  },
  {
   "cell_type": "code",
   "execution_count": 5,
   "id": "88ff2400",
   "metadata": {},
   "outputs": [
    {
     "data": {
      "text/html": [
       "<div>\n",
       "<style scoped>\n",
       "    .dataframe tbody tr th:only-of-type {\n",
       "        vertical-align: middle;\n",
       "    }\n",
       "\n",
       "    .dataframe tbody tr th {\n",
       "        vertical-align: top;\n",
       "    }\n",
       "\n",
       "    .dataframe thead th {\n",
       "        text-align: right;\n",
       "    }\n",
       "</style>\n",
       "<table border=\"1\" class=\"dataframe\">\n",
       "  <thead>\n",
       "    <tr style=\"text-align: right;\">\n",
       "      <th></th>\n",
       "      <th>age</th>\n",
       "      <th>sex</th>\n",
       "      <th>bmi</th>\n",
       "      <th>children</th>\n",
       "      <th>smoker</th>\n",
       "      <th>region</th>\n",
       "      <th>charges</th>\n",
       "    </tr>\n",
       "  </thead>\n",
       "  <tbody>\n",
       "    <tr>\n",
       "      <th>0</th>\n",
       "      <td>19</td>\n",
       "      <td>female</td>\n",
       "      <td>27.900</td>\n",
       "      <td>0</td>\n",
       "      <td>yes</td>\n",
       "      <td>southwest</td>\n",
       "      <td>16884.92400</td>\n",
       "    </tr>\n",
       "    <tr>\n",
       "      <th>1</th>\n",
       "      <td>18</td>\n",
       "      <td>male</td>\n",
       "      <td>33.770</td>\n",
       "      <td>1</td>\n",
       "      <td>no</td>\n",
       "      <td>southeast</td>\n",
       "      <td>1725.55230</td>\n",
       "    </tr>\n",
       "    <tr>\n",
       "      <th>2</th>\n",
       "      <td>28</td>\n",
       "      <td>male</td>\n",
       "      <td>33.000</td>\n",
       "      <td>3</td>\n",
       "      <td>no</td>\n",
       "      <td>southeast</td>\n",
       "      <td>4449.46200</td>\n",
       "    </tr>\n",
       "    <tr>\n",
       "      <th>3</th>\n",
       "      <td>33</td>\n",
       "      <td>male</td>\n",
       "      <td>22.705</td>\n",
       "      <td>0</td>\n",
       "      <td>no</td>\n",
       "      <td>northwest</td>\n",
       "      <td>21984.47061</td>\n",
       "    </tr>\n",
       "    <tr>\n",
       "      <th>4</th>\n",
       "      <td>32</td>\n",
       "      <td>male</td>\n",
       "      <td>28.880</td>\n",
       "      <td>0</td>\n",
       "      <td>no</td>\n",
       "      <td>northwest</td>\n",
       "      <td>3866.85520</td>\n",
       "    </tr>\n",
       "  </tbody>\n",
       "</table>\n",
       "</div>"
      ],
      "text/plain": [
       "   age     sex     bmi  children smoker     region      charges\n",
       "0   19  female  27.900         0    yes  southwest  16884.92400\n",
       "1   18    male  33.770         1     no  southeast   1725.55230\n",
       "2   28    male  33.000         3     no  southeast   4449.46200\n",
       "3   33    male  22.705         0     no  northwest  21984.47061\n",
       "4   32    male  28.880         0     no  northwest   3866.85520"
      ]
     },
     "execution_count": 5,
     "metadata": {},
     "output_type": "execute_result"
    }
   ],
   "source": [
    "path = kagglehub.dataset_download(\"mirichoi0218/insurance\")\n",
    "data = pd.read_csv(os.path.join(path, \"insurance.csv\"))\n",
    "data.head()"
   ]
  },
  {
   "cell_type": "code",
   "execution_count": 18,
   "id": "5a8c86f5",
   "metadata": {},
   "outputs": [
    {
     "name": "stdout",
     "output_type": "stream",
     "text": [
      "charges       1.000000\n",
      "smoker_yes    0.787251\n",
      "age           0.299008\n",
      "bmi           0.198341\n",
      "children      0.067998\n",
      "Name: charges, dtype: float64\n",
      "charges             1.000000\n",
      "smoker_yes          0.787251\n",
      "age                 0.299008\n",
      "bmi                 0.198341\n",
      "region_southeast    0.073982\n",
      "children            0.067998\n",
      "sex_male            0.057292\n",
      "region_northwest   -0.039905\n",
      "region_southwest   -0.043210\n",
      "Name: charges, dtype: float64\n"
     ]
    }
   ],
   "source": [
    "# Now, let's find which feature is important and which is not.\n",
    "numeric_data = data.select_dtypes(include=[np.number])\n",
    "correlation_matrix = numeric_data.corr()\n",
    "print(correlation_matrix[\"charges\"].sort_values(ascending=False))\n",
    "# So, age, bmi and children are important features. But, what about smoker?\n",
    "# print(data.groupby(\"smoker\")[\"charges\"].mean())\n",
    "# Smoker is a categorical feature but it is very important but it is not in numeric format.\n",
    "# So, we need to convert it into numeric format.\n",
    "# 'smoker_yes' is already boolean, convert it to integer (0/1) if needed\n",
    "data[\"smoker_yes\"] = data[\"smoker_yes\"].astype(int)\n",
    "# Now, let's check the correlation again.\n",
    "correlation_matrix = data.corr()\n",
    "print(correlation_matrix[\"charges\"].sort_values(ascending=False))\n",
    "# So, smoker_yes, age, bmi and children are important features. But, why the region_southeast is still higher than children? Why don't we choose it?\n",
    "# Common sense tells us that region is not important. So, we will drop it.\n",
    "X = data[[\"age\", \"bmi\", \"children\", \"smoker_yes\"]]\n",
    "y = data[\"charges\"]\n"
   ]
  },
  {
   "cell_type": "code",
   "execution_count": 19,
   "id": "8efb59fe",
   "metadata": {},
   "outputs": [],
   "source": [
    "# DATA PREPROCESSING\n",
    "X_train, X_test, y_train, y_test = train_test_split(X, y, test_size = 0.2, random_state = 42)\n",
    "scaler = StandardScaler()\n",
    "X_train = scaler.fit_transform(X_train)\n",
    "X_test = scaler.transform(X_test)\n"
   ]
  },
  {
   "cell_type": "code",
   "execution_count": 22,
   "id": "ab271121",
   "metadata": {},
   "outputs": [
    {
     "name": "stdout",
     "output_type": "stream",
     "text": [
      "Linear Regression - MSE: 33981653.95019775, R2: 0.7811147722517887\n",
      "Linear Regression - Accuracy: 0.7811147722517887\n"
     ]
    }
   ],
   "source": [
    "model = LinearRegression()\n",
    "model.fit(X_train, y_train)\n",
    "y_pred = model.predict(X_test)\n",
    "mse = mean_squared_error(y_test, y_pred)\n",
    "r2 = r2_score(y_test, y_pred)\n",
    "print(f\"Linear Regression - MSE: {mse}, R2: {r2}\")\n",
    "accuracy = model.score(X_test, y_test)\n",
    "print(f\"Linear Regression - Accuracy: {accuracy}\")\n",
    "\n",
    "# 78% accuracy is good but we can do better.\n"
   ]
  },
  {
   "cell_type": "code",
   "execution_count": null,
   "id": "e5310437",
   "metadata": {},
   "outputs": [
    {
     "name": "stdout",
     "output_type": "stream",
     "text": [
      "Lasso Regression - MSE: 33981749.95140859, R2: 0.7811141538814489\n",
      "Lasso Regression - Accuracy: 0.7811141538814489\n"
     ]
    }
   ],
   "source": [
    "model = Lasso(alpha=0.1)\n",
    "model.fit(X_train, y_train)\n",
    "y_pred = model.predict(X_test)\n",
    "mse = mean_squared_error(y_test, y_pred)\n",
    "r2 = r2_score(y_test, y_pred)\n",
    "print(f\"Lasso Regression - MSE: {mse}, R2: {r2}\")\n",
    "accuracy = model.score(X_test, y_test)\n",
    "print(f\"Lasso Regression - Accuracy: {accuracy}\")\n",
    "#MSE is quite large. Let's try Ridge Regression."
   ]
  },
  {
   "cell_type": "code",
   "execution_count": 32,
   "id": "2a66afe0",
   "metadata": {},
   "outputs": [
    {
     "name": "stdout",
     "output_type": "stream",
     "text": [
      "Ridge Regression - MSE: 33987477.223127544, R2: 0.7810772629409309\n",
      "Ridge Regression - Accuracy: 0.7810772629409309\n"
     ]
    }
   ],
   "source": [
    "model = Ridge(alpha=1.0)\n",
    "model.fit(X_train, y_train)\n",
    "y_pred = model.predict(X_test)\n",
    "mse = mean_squared_error(y_test, y_pred)\n",
    "r2 = r2_score(y_test, y_pred)\n",
    "print(f\"Ridge Regression - MSE: {mse}, R2: {r2}\")\n",
    "accuracy = model.score(X_test, y_test)\n",
    "print(f\"Ridge Regression - Accuracy: {accuracy}\")\n"
   ]
  },
  {
   "cell_type": "code",
   "execution_count": null,
   "id": "5825e29e",
   "metadata": {},
   "outputs": [],
   "source": []
  }
 ],
 "metadata": {
  "kernelspec": {
   "display_name": "Python 3",
   "language": "python",
   "name": "python3"
  },
  "language_info": {
   "codemirror_mode": {
    "name": "ipython",
    "version": 3
   },
   "file_extension": ".py",
   "mimetype": "text/x-python",
   "name": "python",
   "nbconvert_exporter": "python",
   "pygments_lexer": "ipython3",
   "version": "3.13.7"
  }
 },
 "nbformat": 4,
 "nbformat_minor": 5
}
