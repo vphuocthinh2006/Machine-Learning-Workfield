{
 "cells": [
  {
   "cell_type": "code",
   "execution_count": 16,
   "id": "e8fa3831",
   "metadata": {},
   "outputs": [],
   "source": [
    "import numpy as np\n",
    "import tensorflow as tf\n",
    "import matplotlib.pyplot as plt\n",
    "import pandas as pd\n",
    "import os\n",
    "import kagglehub\n",
    "from sklearn.preprocessing import LabelEncoder\n",
    "from sklearn.preprocessing import OneHotEncoder\n",
    "\n",
    "\n",
    "# Download latest version\n",
    "path = kagglehub.dataset_download(\"arshid/iris-flower-dataset\")\n",
    "# df = pd.read_csv(path + \"Iris.csv\")\n",
    "df = pd.read_csv(os.path.join(path, \"Iris.csv\"))\n",
    "# print(\"Path to dataset files:\", path)"
   ]
  },
  {
   "cell_type": "code",
   "execution_count": 17,
   "id": "cbcba257",
   "metadata": {},
   "outputs": [],
   "source": [
    "X = df[[\"sepal_length\", \"sepal_width\", \"petal_length\", \"petal_width\"]].values\n",
    "y = df[\"species\"].values\n",
    "# print(X.shape)\n",
    "# y = y.reshape(150, 1)\n",
    "# print(y)\n",
    "encoder = LabelEncoder()\n",
    "y_encoder = encoder.fit_transform(y)\n",
    "y_encoder = y_encoder.reshape(-1, 1)\n",
    "oneHot = OneHotEncoder(sparse_output = False)\n",
    "y_encoder = oneHot.fit_transform(y_encoder) #shape (150,3)\n",
    "np.random.seed(42)\n",
    "w1 = np.random.randn(4, 64) * 0.01\n",
    "b1 = np.zeros((1, 64))\n",
    "w2 = np.random.randn(64, 3) * 0.01\n",
    "b2 = np.zeros((1, 3))\n",
    "# b1 = 0\n",
    "# b2 = 0\n",
    "# b3 = 0\n",
    "\n",
    "a = 0.1\n",
    "# print(y_encoder)"
   ]
  },
  {
   "cell_type": "code",
   "execution_count": 18,
   "id": "5fb53548",
   "metadata": {},
   "outputs": [],
   "source": [
    "# def sigmoid(z):\n",
    "#     return (1/(1+np.exp(-z)))\n",
    "def ReLU(z):\n",
    "    return np.maximum(0, z)\n",
    "def ReLU_Derivative(z):\n",
    "    return (z>0).astype(float)\n",
    "def sigmoid(z):\n",
    "    return (1/(1+np.exp(-z)))\n",
    "def softmax(z): #vectorized\n",
    "        exp_values = np.exp(z-np.max(z, axis = 1, keepdims = True)) #tim gia tri lon nhat cua moi sample  roi tru di so lon nhat\n",
    "        return exp_values/np.sum(exp_values, axis = 1, keepdims = True) #tong cong trong hang, tranh overflow\n",
    "\n",
    "# def Dense(X, w, b, activation=None):\n",
    "#     Z = np.dot(X, w) + b\n",
    "#     if activation == \"relu\":\n",
    "#         return ReLU(Z)\n",
    "#     elif activation == \"sigmoid\":\n",
    "#         return sigmoid(Z)\n",
    "#     elif activation == \"softmax\":\n",
    "#         return softmax(Z)\n",
    "#     else:\n",
    "#         return Z  # linear output\n"
   ]
  },
  {
   "cell_type": "code",
   "execution_count": 22,
   "id": "9ed8eb18",
   "metadata": {},
   "outputs": [
    {
     "name": "stdout",
     "output_type": "stream",
     "text": [
      "Epoch 0 | Loss: 1.0984 | Accuracy: 0.3333\n",
      "Epoch 100 | Loss: 0.3117 | Accuracy: 0.9733\n",
      "Epoch 200 | Loss: 0.2858 | Accuracy: 0.8667\n",
      "Epoch 300 | Loss: 0.1899 | Accuracy: 0.9200\n",
      "Epoch 400 | Loss: 0.1286 | Accuracy: 0.9333\n",
      "Epoch 500 | Loss: 0.1107 | Accuracy: 0.9333\n",
      "Epoch 600 | Loss: 0.0943 | Accuracy: 0.9467\n",
      "Epoch 700 | Loss: 0.0808 | Accuracy: 0.9467\n",
      "Epoch 800 | Loss: 0.0783 | Accuracy: 0.9600\n",
      "Epoch 900 | Loss: 0.0749 | Accuracy: 0.9600\n",
      "Final accuracy: 0.9733333333333334\n"
     ]
    }
   ],
   "source": [
    "def cross_entropy(y_true, y_pred):\n",
    "    m = y_true.shape[0]\n",
    "    return (-1/m) * np.sum(y_true * np.log(y_pred+1e-9))\n",
    "for epoch in range(1000):\n",
    "    z1 = np.dot(X, w1) + b1\n",
    "    A1 = ReLU(z1)\n",
    "# for _ in range(64):\n",
    "    z2 = np.dot(A1, w2) + b2\n",
    "    A2 = softmax(z2)\n",
    "    # error = A2 - y\n",
    "    # dw2 = np.dot()\n",
    "    # Now, let's implement back propagation\n",
    "    loss = cross_entropy(y_encoder, A2)\n",
    "    m = X.shape[0]\n",
    "    dz2 = (A2 - y_encoder)/m #Let's have the prediction substract the real label, so we could have the error\n",
    "    dw2 = np.dot(A1.T, dz2) #Once done, we will have an dot product with the dz2 from A1.Trans to know how much hidden layers has been impacted\n",
    "    db2 = np.sum(dz2, axis = 0, keepdims = True) #How much errors that have been summed up in a column sum\n",
    "    dA1 =  np.dot(dz2, w2.T) #Once done, we will have an dot product with w2.T and dz2 to see how much A1 has been affected\n",
    "    dz1 = dA1 * ReLU_Derivative(z1) # If we're hidden when we're using ReLU, it only activates when neuron takes a fault\n",
    "    dw1 = np.dot(X.T, dz1) #Same as the above.\n",
    "    db1 = np.sum(dz1, axis=0, keepdims=True)#Same as the above\n",
    "# The procedure is: If the output is wrong -> Split those errors back into layer and neuron -> And, continue until we gain gradient on every number.\n",
    "    w1 -= a*dw1\n",
    "    b1 -= a*db1\n",
    "    w2 -= a*dw2\n",
    "    b2-= a*db2\n",
    "    if epoch % 100 == 0:\n",
    "        preds = np.argmax(A2, axis=1)\n",
    "        labels = np.argmax(y_encoder, axis=1)   # ✅ chuyển từ one-hot\n",
    "        acc = np.mean(preds == labels)\n",
    "        print(f\"Epoch {epoch} | Loss: {loss:.4f} | Accuracy: {acc:.4f}\")\n",
    "\n",
    "    \n",
    "preds = np.argmax(A2, axis=1)\n",
    "labels = np.argmax(y_encoder, axis=1)\n",
    "accuracy = np.mean(preds == labels)\n",
    "print(\"Final accuracy:\", accuracy)\n"
   ]
  },
  {
   "cell_type": "code",
   "execution_count": null,
   "id": "28527707",
   "metadata": {},
   "outputs": [],
   "source": []
  }
 ],
 "metadata": {
  "kernelspec": {
   "display_name": "Python 3",
   "language": "python",
   "name": "python3"
  },
  "language_info": {
   "codemirror_mode": {
    "name": "ipython",
    "version": 3
   },
   "file_extension": ".py",
   "mimetype": "text/x-python",
   "name": "python",
   "nbconvert_exporter": "python",
   "pygments_lexer": "ipython3",
   "version": "3.13.7"
  }
 },
 "nbformat": 4,
 "nbformat_minor": 5
}
